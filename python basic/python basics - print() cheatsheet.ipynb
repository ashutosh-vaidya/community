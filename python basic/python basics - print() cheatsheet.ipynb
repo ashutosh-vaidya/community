{
 "cells": [
  {
   "cell_type": "markdown",
   "metadata": {},
   "source": [
    "The `print()` function prints the specified message to the screen, or other standard output device. The message can be a string, or any other object, the object will be converted into a string before written to the screen.\n",
    "\n",
    "**Syntax:**\n",
    "```python\n",
    "print(*values, sep= seperator, end = end, file = file, flush = flush)\n",
    "```\n",
    "where,\n",
    "\n",
    "- `value(s)`: Any object, * indicats as many as you like. Everthing will be convered to `string` before printed.\n",
    "\n",
    "- `sep='separator'`: **Optional.** Specify how to separate the objects, if there is more than one. Default is **`' '`**\n",
    "\n",
    "- `end='end'`: **Optional.** Specify what to print at the end. Default is **`'\\n'`** (line feed)\n",
    "\n",
    "- `file`: **Optional.** An object with a write method. Default is **`sys.stdout`**\n",
    "\n",
    "- `flush`: **Optional.** A Boolean, specifying if the output is flushed (True) or buffered (False). Default is **`False`**\n",
    "\n",
    "**Note:** `sep`, `end`, `file`, and `flush` are keyword arguments. If you want to use sep argument, you have to use:\n",
    "```python\n",
    "print(*values, sep = 'separator', end = 'end')\n",
    "```\n",
    "\n",
    "**Examples:**\n"
   ]
  },
  {
   "cell_type": "code",
   "execution_count": 1,
   "metadata": {},
   "outputs": [
    {
     "name": "stdout",
     "output_type": "stream",
     "text": [
      "Hello World\n"
     ]
    }
   ],
   "source": [
    "message = \"Hello World\"\n",
    "#print the string message\n",
    "print(message)"
   ]
  },
  {
   "cell_type": "code",
   "execution_count": 2,
   "metadata": {},
   "outputs": [
    {
     "name": "stdout",
     "output_type": "stream",
     "text": [
      "Hello World\n"
     ]
    }
   ],
   "source": [
    "#We can directly used string \"Hello World inside print() without using variable message\"\n",
    "print(\"Hello World\")"
   ]
  },
  {
   "cell_type": "code",
   "execution_count": 3,
   "metadata": {},
   "outputs": [
    {
     "name": "stdout",
     "output_type": "stream",
     "text": [
      "Hello! how are you?\n"
     ]
    }
   ],
   "source": [
    "#Printing two values in same print()\n",
    "print(\"Hello!\", \"how are you?\")"
   ]
  },
  {
   "cell_type": "code",
   "execution_count": 4,
   "metadata": {},
   "outputs": [
    {
     "name": "stdout",
     "output_type": "stream",
     "text": [
      "('apple', 'banana', 'cherry')\n"
     ]
    }
   ],
   "source": [
    "#printing complex datatype such as tuples\n",
    "x = (\"apple\", \"banana\", \"cherry\")\n",
    "print(x)"
   ]
  },
  {
   "cell_type": "markdown",
   "metadata": {},
   "source": [
    "\n",
    "\n",
    "\n",
    "**Example of print using `sep`**"
   ]
  },
  {
   "cell_type": "code",
   "execution_count": 5,
   "metadata": {},
   "outputs": [
    {
     "name": "stdout",
     "output_type": "stream",
     "text": [
      "Hello This is fun\n",
      "-------------------------\n",
      "Hello-This-is-fun\n"
     ]
    }
   ],
   "source": [
    "#without using sep\n",
    "print(\"Hello\",\"This\",\"is\",\"fun\")\n",
    "print(\"-\"*25)\n",
    "#Using sep\n",
    "print(\"Hello\",\"This\",\"is\",\"fun\", sep=\"-\")"
   ]
  },
  {
   "cell_type": "markdown",
   "metadata": {},
   "source": [
    "**Example of print using `end`**"
   ]
  },
  {
   "cell_type": "code",
   "execution_count": 6,
   "metadata": {},
   "outputs": [
    {
     "name": "stdout",
     "output_type": "stream",
     "text": [
      "0\n",
      "1\n",
      "2\n",
      "3\n",
      "4\n",
      "-------------------------\n",
      "0-1-2-3-4-"
     ]
    }
   ],
   "source": [
    "#Example of print using without end\n",
    "for i in range(5):\n",
    "    print(i)\n",
    "print(\"-\"*25)\n",
    "#Example of print using end\n",
    "for i in range(5):\n",
    "    print(i, end=\"-\")"
   ]
  },
  {
   "cell_type": "markdown",
   "metadata": {},
   "source": [
    "**String formatting in print:**\n",
    "\n",
    "**% operator:** also called as “Old Style” String Formatting. Strings in Python have a unique built-in operation that can be accessed with the **`%`** operator. This lets you do simple positional formatting very easily. If you’ve ever worked with a printf-style function in C, you’ll recognize how this works instantly. \n",
    "\n",
    "**Note:** It is recommended to avoid using % operator as string literals are more preferred way since python 3\n",
    "\n",
    "Here’s a simple example:"
   ]
  },
  {
   "cell_type": "code",
   "execution_count": 7,
   "metadata": {},
   "outputs": [
    {
     "name": "stdout",
     "output_type": "stream",
     "text": [
      "Hello, abcd\n",
      "abcd is 25 years old\n"
     ]
    }
   ],
   "source": [
    "name = \"abcd\"\n",
    "print('Hello, %s' % name)\n",
    "age = 25\n",
    "print('abcd is %d years old' % age)"
   ]
  },
  {
   "cell_type": "markdown",
   "metadata": {},
   "source": [
    "**String Formatting (str.format):** also called as \"New Style\" String formatting.This “new style” string formatting gets rid of the %-operator special syntax and makes the syntax for string formatting more regular. Formatting is now handled by calling **`.format()`** on a string object.\n",
    "\n",
    "You can use format() to do simple positional formatting, just like you could with “old style” formatting:\n",
    "    \n",
    "Examples:"
   ]
  },
  {
   "cell_type": "code",
   "execution_count": 8,
   "metadata": {},
   "outputs": [
    {
     "name": "stdout",
     "output_type": "stream",
     "text": [
      "Hello, abcd\n",
      "abcd is 25 years old\n"
     ]
    }
   ],
   "source": [
    "name = \"abcd\"\n",
    "print('Hello, {}'.format(name))\n",
    "age = 25\n",
    "print('abcd is {} years old'.format(age))"
   ]
  },
  {
   "cell_type": "markdown",
   "metadata": {},
   "source": [
    "**Formatted String Literals or `f-strings`:** If your are using Python 3.6+, string f-strings are the recommended way to format strings.\n",
    "\n",
    "A formatted string literal or f-string is a string literal that is prefixed with **`f`** or **`F`**. These strings may contain replacement fields, which are expressions delimited by curly braces **`{}`**. While other string literals always have a constant value, formatted strings are really expressions evaluated at run time.\n",
    "\n",
    "This are also called **String Interpolation**\n",
    "\n",
    "Example:"
   ]
  },
  {
   "cell_type": "code",
   "execution_count": 9,
   "metadata": {},
   "outputs": [
    {
     "name": "stdout",
     "output_type": "stream",
     "text": [
      "Hello, abcd\n",
      "abcd is 25 years old\n"
     ]
    }
   ],
   "source": [
    "name = \"abcd\"\n",
    "print(f'Hello, {name}')\n",
    "age = 25\n",
    "print(f'abcd is {age} years old')"
   ]
  },
  {
   "cell_type": "markdown",
   "metadata": {},
   "source": [
    "**Formatting the digits in python**"
   ]
  },
  {
   "cell_type": "code",
   "execution_count": 10,
   "metadata": {},
   "outputs": [
    {
     "name": "stdout",
     "output_type": "stream",
     "text": [
      "10,000,000\n"
     ]
    }
   ],
   "source": [
    "#Adding thousands separator\n",
    "a = 10000000\n",
    "print(f\"{a:,}\")"
   ]
  },
  {
   "cell_type": "code",
   "execution_count": 11,
   "metadata": {},
   "outputs": [
    {
     "data": {
      "text/plain": [
       "'3.14'"
      ]
     },
     "execution_count": 11,
     "metadata": {},
     "output_type": "execute_result"
    }
   ],
   "source": [
    "#Rounding\n",
    "a = 3.1415926\n",
    "f\"{a:.2f}\""
   ]
  },
  {
   "cell_type": "code",
   "execution_count": 12,
   "metadata": {},
   "outputs": [
    {
     "name": "stdout",
     "output_type": "stream",
     "text": [
      "81.66%\n"
     ]
    }
   ],
   "source": [
    "#Showing as Percentage\n",
    "a = 0.816562\n",
    "print(f\"{a:.2%}\")"
   ]
  },
  {
   "cell_type": "code",
   "execution_count": 13,
   "metadata": {},
   "outputs": [
    {
     "name": "stdout",
     "output_type": "stream",
     "text": [
      "         11\n"
     ]
    }
   ],
   "source": [
    "a = 11\n",
    "print(f\"{a:11d}\")"
   ]
  },
  {
   "cell_type": "markdown",
   "metadata": {},
   "source": [
    "**Below is number formatting table:**\n",
    "    \n",
    "|Number|Format|Output|description|\n",
    "|:-:|:-:|:-:|:-:|\n",
    "|3.1415926|{:.2f}|3.14|Format float 2 decimal places|\n",
    "|3.1415926|{:+.2f}|+3.14|Format float 2 decimal places with sign|\n",
    "|-1|{:+.2f}|-1.00|Format float 2 decimal places with sign|\n",
    "|2.71828|{:.0f}|3|Format float with no decimal places|\n",
    "|4|{:0>2d}|04|Pad number with zeros (left padding, width 2)|\n",
    "|4|{:x<4d}|4xxx|Pad number with x’s (right padding, width 4)|\n",
    "|10|{:x<4d}|10xx|Pad number with x’s (right padding, width 4)|\n",
    "|1000000|{:,}|1,000,000|Number format with comma separator|\n",
    "|0.35|{:.2%}|35.00%|Format percentage|\n",
    "|1000000000|{:.2e}|1.00e+09|Exponent notation|\n",
    "|11|{:11d}|11|Right-aligned (default, width 10)|\n",
    "|11|{:<11d}|11|Left-aligned (width 10)|\n",
    "|11|{:^11d}|11|Center aligned (width 10)|"
   ]
  }
 ],
 "metadata": {
  "kernelspec": {
   "display_name": "Python 3 (ipykernel)",
   "language": "python",
   "name": "python3"
  },
  "language_info": {
   "codemirror_mode": {
    "name": "ipython",
    "version": 3
   },
   "file_extension": ".py",
   "mimetype": "text/x-python",
   "name": "python",
   "nbconvert_exporter": "python",
   "pygments_lexer": "ipython3",
   "version": "3.9.7"
  },
  "vscode": {
   "interpreter": {
    "hash": "2e9fabe032bffe0cc0c3c64f24b2b2f9772f6d73d888e671931091271cce41de"
   }
  }
 },
 "nbformat": 4,
 "nbformat_minor": 2
}
