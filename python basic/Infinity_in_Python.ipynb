{
 "cells": [
  {
   "cell_type": "markdown",
   "id": "225f77a4-bd65-4b60-8717-9dcf9ddda97f",
   "metadata": {},
   "source": [
    "## Ways infinty can be reprsented in python"
   ]
  },
  {
   "cell_type": "markdown",
   "id": "86393c5f-6e45-439d-a420-fbda94201d4f",
   "metadata": {},
   "source": [
    "**1. Using `float('inf')` and `float('-inf')`**"
   ]
  },
  {
   "cell_type": "code",
   "execution_count": 1,
   "id": "e6782135-0f4b-43d2-ac60-7898b4b5ab57",
   "metadata": {},
   "outputs": [
    {
     "name": "stdout",
     "output_type": "stream",
     "text": [
      "Positive Infinity:  inf\n",
      "Negative Infinity:  -inf\n"
     ]
    }
   ],
   "source": [
    "# Defining a positive infinite integer\n",
    "positive_infinity = float('inf')\n",
    "print('Positive Infinity: ', positive_infinity)\n",
    " \n",
    "# Defining a negative infinite integer\n",
    "negative_infinity = float('-inf')\n",
    "print('Negative Infinity: ', negative_infinity)"
   ]
  },
  {
   "cell_type": "markdown",
   "id": "4da20449-6205-46ca-afad-0ce828d72880",
   "metadata": {},
   "source": [
    "**2. Using `Math` module**"
   ]
  },
  {
   "cell_type": "code",
   "execution_count": 2,
   "id": "3a6fa710-f090-438b-a0f2-34c0809a5448",
   "metadata": {},
   "outputs": [
    {
     "name": "stdout",
     "output_type": "stream",
     "text": [
      "Positive Infinity:  inf\n",
      "Negative Infinity:  -inf\n"
     ]
    }
   ],
   "source": [
    "import math\n",
    " \n",
    "# Defining a positive infinite integer\n",
    "positive_infinity = math.inf\n",
    "print('Positive Infinity: ', positive_infinity)\n",
    " \n",
    "# Defining a negative infinite integer\n",
    "negative_infinity = -math.inf\n",
    "print('Negative Infinity: ', negative_infinity)"
   ]
  },
  {
   "cell_type": "markdown",
   "id": "2bc926b7-c8a4-4906-b674-ab38d2b52ca4",
   "metadata": {},
   "source": [
    "**3. Using `Decimal` module**"
   ]
  },
  {
   "cell_type": "code",
   "execution_count": 3,
   "id": "909296fd-b249-44ca-b80e-d53a59ae2bba",
   "metadata": {},
   "outputs": [
    {
     "name": "stdout",
     "output_type": "stream",
     "text": [
      "Positive Infinity:  Infinity\n",
      "Negative Infinity:  -Infinity\n"
     ]
    }
   ],
   "source": [
    "from decimal import Decimal\n",
    " \n",
    "# Defining a positive infinite integer\n",
    "positive_infinity = Decimal('Infinity')\n",
    "print('Positive Infinity: ', positive_infinity)\n",
    " \n",
    "# Defining a negative infinite integer\n",
    "negative_infinity = Decimal('-Infinity')\n",
    "print('Negative Infinity: ', negative_infinity)"
   ]
  },
  {
   "cell_type": "markdown",
   "id": "09082956-96d9-4918-9b16-4ea38bf4d532",
   "metadata": {},
   "source": [
    "**4. Using `Numpy` module**"
   ]
  },
  {
   "cell_type": "code",
   "execution_count": 4,
   "id": "e368536c-5009-4e70-986d-f5e3f1881029",
   "metadata": {},
   "outputs": [
    {
     "name": "stdout",
     "output_type": "stream",
     "text": [
      "Positive Infinity:  inf\n",
      "Negative Infinity:  -inf\n"
     ]
    }
   ],
   "source": [
    "import numpy as np\n",
    " \n",
    "# Defining a positive infinite integer\n",
    "positive_infinity = np.inf\n",
    "print('Positive Infinity: ', positive_infinity)\n",
    " \n",
    "# Defining a negative infinite integer\n",
    "negative_infinity = -np.inf\n",
    "print('Negative Infinity: ', negative_infinity)"
   ]
  },
  {
   "cell_type": "markdown",
   "id": "659356c1-0931-4b60-86be-201b3b587430",
   "metadata": {},
   "source": [
    "## Checking if a number is infinite in Python"
   ]
  },
  {
   "cell_type": "markdown",
   "id": "3f9e5a43-aeb5-4322-a98a-42c8c54910e3",
   "metadata": {},
   "source": [
    "To check whether the given number is infinite or not, we can use the math module's `isinf()` function. It returns a boolean value which means if the given number is infinite it returns true and returns false if the number is not."
   ]
  },
  {
   "cell_type": "code",
   "execution_count": 5,
   "id": "1ada45a2-81b9-40c4-b24b-e1edc8b32153",
   "metadata": {},
   "outputs": [
    {
     "name": "stdout",
     "output_type": "stream",
     "text": [
      "Positive Infinity:  inf\n",
      "The variable is infinity =  True\n",
      "Negative Infinity:  -inf\n",
      "The variable is infinity =  True\n"
     ]
    }
   ],
   "source": [
    "import math\n",
    "\n",
    "# Defining a positive infinite integer\n",
    "positive_infinity = float('inf')\n",
    "print('Positive Infinity: ', positive_infinity)\n",
    "print('The variable is infinity = ',math.isinf(positive_infinity))\n",
    " \n",
    "# Defining a negative infinite integer\n",
    "negative_infinity = float('-inf')\n",
    "print('Negative Infinity: ', negative_infinity)\n",
    "print('The variable is infinity = ',math.isinf(negative_infinity))"
   ]
  },
  {
   "cell_type": "markdown",
   "id": "7c98ea81-121c-4634-9ef0-ebf5e3011664",
   "metadata": {},
   "source": [
    "We can also verify that if positive and negative infinity are same or not"
   ]
  },
  {
   "cell_type": "code",
   "execution_count": 6,
   "id": "2e00451f-ef62-433d-9e6f-e43a36fc83b0",
   "metadata": {},
   "outputs": [
    {
     "name": "stdout",
     "output_type": "stream",
     "text": [
      "Positive infinity equal to Negative infinity:  False\n"
     ]
    }
   ],
   "source": [
    "print('Positive infinity equal to Negative infinity: ',positive_infinity == negative_infinity)"
   ]
  },
  {
   "cell_type": "markdown",
   "id": "d2d8d1e3-0532-489c-913b-15cb567f541b",
   "metadata": {},
   "source": [
    "Positive infinity number is **greatest**, and the negative infinity number is the **smallest** of all numbers. Lets verify this with an program"
   ]
  },
  {
   "cell_type": "code",
   "execution_count": 8,
   "id": "18e43c51-c187-41f0-85ff-1fddbfae441b",
   "metadata": {},
   "outputs": [
    {
     "name": "stdout",
     "output_type": "stream",
     "text": [
      "Positive infinity is greater\n",
      "Negative infinity is smaller\n"
     ]
    }
   ],
   "source": [
    "if 99999999999999999 > positive_infinity:\n",
    "    print('Numer is greater than Positive infinity')\n",
    "else:\n",
    "    print('Positive infinity is greater')\n",
    "\n",
    "if -99999999999999999 < negative_infinity:\n",
    "    print('Numer is smaller than Negative infinity')\n",
    "else:\n",
    "    print('Negative infinity is smaller')"
   ]
  },
  {
   "cell_type": "markdown",
   "id": "94d87fb2-8be8-42b7-82f8-56be1f7d3e42",
   "metadata": {},
   "source": [
    "## Arithmetic operations on infinity number will give an infinite number\n",
    "\n",
    "Any arithmetic operations performed on an infinite value will give an infinite value be it addition, subtraction, multiplication or division, etc."
   ]
  },
  {
   "cell_type": "code",
   "execution_count": 9,
   "id": "28e3e348-1f39-445a-bfab-2bc05225c52d",
   "metadata": {},
   "outputs": [
    {
     "name": "stdout",
     "output_type": "stream",
     "text": [
      "Arithmatic operation on Positive infinity: \n",
      "Multiplication :  inf\n",
      "Addition :  inf\n",
      "Subtraction :  inf\n",
      "Division :  inf\n",
      "Arithmatic operation on Negative infinity: \n",
      "Multiplication :  -inf\n",
      "Addition :  -inf\n",
      "Subtraction :  -inf\n",
      "Division :  -inf\n"
     ]
    }
   ],
   "source": [
    "print('Arithmatic operation on Positive infinity: ')\n",
    "# Multiply Positive infinity number by 5\n",
    "print('Multiplication : ',positive_infinity * 5)\n",
    "\n",
    "# Addition to Positive infinity Number\n",
    "print('Addition : ',positive_infinity + 5)\n",
    "\n",
    "# Subtraction to Positive infinity Number\n",
    "print('Subtraction : ',positive_infinity - 5)\n",
    "\n",
    "# Division to Positive infinity Number\n",
    "print('Division : ',positive_infinity / 5)\n",
    "\n",
    "print('Arithmatic operation on Negative infinity: ')\n",
    "# Multiply Negative infinity number by 5\n",
    "print('Multiplication : ',negative_infinity * 5)\n",
    "\n",
    "# Addition to Negative infinity Number\n",
    "print('Addition : ',negative_infinity + 5)\n",
    "\n",
    "# Subtraction to Negative infinity Number\n",
    "print('Subtraction : ',negative_infinity - 5)\n",
    "\n",
    "# Division to Negative infinity Number\n",
    "print('Division : ',negative_infinity / 5)"
   ]
  },
  {
   "cell_type": "code",
   "execution_count": null,
   "id": "5737d7e3-ff2c-4bf6-9903-e526bf8fed41",
   "metadata": {},
   "outputs": [],
   "source": []
  }
 ],
 "metadata": {
  "kernelspec": {
   "display_name": "Python 3 (ipykernel)",
   "language": "python",
   "name": "python3"
  },
  "language_info": {
   "codemirror_mode": {
    "name": "ipython",
    "version": 3
   },
   "file_extension": ".py",
   "mimetype": "text/x-python",
   "name": "python",
   "nbconvert_exporter": "python",
   "pygments_lexer": "ipython3",
   "version": "3.10.6"
  }
 },
 "nbformat": 4,
 "nbformat_minor": 5
}
