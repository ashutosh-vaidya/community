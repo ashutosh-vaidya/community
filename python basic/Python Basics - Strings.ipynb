{
 "cells": [
  {
   "cell_type": "markdown",
   "id": "c5a1db0d",
   "metadata": {},
   "source": [
    "**Strings:**\n",
    "\n",
    "Strings in python are surrounded by either single quotation marks, or double quotation marks.\n",
    "\n",
    "`'hello'` is the same as `\"hello\"`."
   ]
  },
  {
   "cell_type": "code",
   "execution_count": 1,
   "id": "cc5f93e9",
   "metadata": {},
   "outputs": [
    {
     "name": "stdout",
     "output_type": "stream",
     "text": [
      "Hello\n"
     ]
    }
   ],
   "source": [
    "a = \"Hello\"\n",
    "print(a)"
   ]
  },
  {
   "cell_type": "markdown",
   "id": "6b76cc60",
   "metadata": {},
   "source": [
    "___\n",
    "**Multiline Strings:**\n",
    "\n",
    "We can assign a multiple string to a variable by using three single or double quotes:"
   ]
  },
  {
   "cell_type": "code",
   "execution_count": 2,
   "id": "b0cdd9dd",
   "metadata": {},
   "outputs": [
    {
     "name": "stdout",
     "output_type": "stream",
     "text": [
      "This is first line in the multiline string\n",
      "This is Second line.\n",
      "And last but not the least this is the third line\n"
     ]
    }
   ],
   "source": [
    "a = \"\"\"This is first line in the multiline string\n",
    "This is Second line.\n",
    "And last but not the least this is the third line\"\"\"\n",
    "print(a)"
   ]
  },
  {
   "cell_type": "markdown",
   "id": "90e9f1fd",
   "metadata": {},
   "source": [
    "We can achieve similar using escape character **`\\n`**"
   ]
  },
  {
   "cell_type": "code",
   "execution_count": 3,
   "id": "d95350d5",
   "metadata": {},
   "outputs": [
    {
     "name": "stdout",
     "output_type": "stream",
     "text": [
      "This is first line in the multiline string\n",
      "This is Second line.\n",
      "And last but not the least this is the third line\n"
     ]
    }
   ],
   "source": [
    "a = \"This is first line in the multiline string\\nThis is Second line.\\nAnd last but not the least this is the third line\"\n",
    "print(a)"
   ]
  },
  {
   "cell_type": "markdown",
   "id": "21ff1839",
   "metadata": {},
   "source": [
    "___\n",
    "\n",
    "**Escape Charcters:**\n",
    "\n",
    "Escape charcters are used to insert characters that are illegal in a string. An escape character is a **`backslash \\`** followed by the character you want to insert. An example of an illegal character is a double quote inside a string that is surrounded by double quotes or newline charcter `\\n`"
   ]
  },
  {
   "cell_type": "code",
   "execution_count": 4,
   "id": "cc5591df",
   "metadata": {},
   "outputs": [
    {
     "name": "stdout",
     "output_type": "stream",
     "text": [
      "We are the so-called \"Vikings\" from the north.\n"
     ]
    }
   ],
   "source": [
    "a = \"We are the so-called \\\"Vikings\\\" from the north.\"\n",
    "print(a)"
   ]
  },
  {
   "cell_type": "markdown",
   "id": "61b65c46",
   "metadata": {},
   "source": [
    "**Below are some escape character used in Python:**\n",
    "\n",
    "`\\'` - apostrophe"
   ]
  },
  {
   "cell_type": "code",
   "execution_count": 5,
   "id": "3f63f925",
   "metadata": {},
   "outputs": [
    {
     "name": "stdout",
     "output_type": "stream",
     "text": [
      "Rick o'connel.\n"
     ]
    }
   ],
   "source": [
    "Name = 'Rick o\\'connel.'\n",
    "print(Name) "
   ]
  },
  {
   "cell_type": "markdown",
   "id": "e3bd707f",
   "metadata": {},
   "source": [
    "`\\\\` - Backslash"
   ]
  },
  {
   "cell_type": "code",
   "execution_count": 6,
   "id": "479ff91e",
   "metadata": {},
   "outputs": [
    {
     "name": "stdout",
     "output_type": "stream",
     "text": [
      "This will insert one \\ (backslash).\n"
     ]
    }
   ],
   "source": [
    "a = \"This will insert one \\\\ (backslash).\"\n",
    "print(a)"
   ]
  },
  {
   "cell_type": "markdown",
   "id": "f7db8cb7",
   "metadata": {},
   "source": [
    "`\\n` - new line"
   ]
  },
  {
   "cell_type": "code",
   "execution_count": 7,
   "id": "7c28ff48",
   "metadata": {},
   "outputs": [
    {
     "name": "stdout",
     "output_type": "stream",
     "text": [
      "This is first line in the multiline string\n",
      "This is Second line.\n",
      "And last but not the least this is the third line\n"
     ]
    }
   ],
   "source": [
    "a = \"This is first line in the multiline string\\nThis is Second line.\\nAnd last but not the least this is the third line\"\n",
    "print(a)"
   ]
  },
  {
   "cell_type": "markdown",
   "id": "b58dabd3",
   "metadata": {},
   "source": [
    "`\\r` - Carriage Return"
   ]
  },
  {
   "cell_type": "code",
   "execution_count": 8,
   "id": "c78bb607",
   "metadata": {},
   "outputs": [
    {
     "name": "stdout",
     "output_type": "stream",
     "text": [
      "Hello \r",
      "World!\n"
     ]
    }
   ],
   "source": [
    "a = \"Hello \\rWorld!\"\n",
    "print(a)"
   ]
  },
  {
   "cell_type": "markdown",
   "id": "a906fcef",
   "metadata": {},
   "source": [
    "`\\b` - Backspace"
   ]
  },
  {
   "cell_type": "code",
   "execution_count": 9,
   "id": "da6a407d",
   "metadata": {},
   "outputs": [
    {
     "name": "stdout",
     "output_type": "stream",
     "text": [
      "Hello \bWorld!\n"
     ]
    }
   ],
   "source": [
    "#This will erases one character (backspace):\n",
    "a = \"Hello \\bWorld!\"\n",
    "print(a) "
   ]
  },
  {
   "cell_type": "markdown",
   "id": "e7c1ced9",
   "metadata": {},
   "source": [
    "`\\t` - Tab"
   ]
  },
  {
   "cell_type": "code",
   "execution_count": 10,
   "id": "f84920da",
   "metadata": {},
   "outputs": [
    {
     "name": "stdout",
     "output_type": "stream",
     "text": [
      "Hello\tWorld!\n"
     ]
    }
   ],
   "source": [
    "a = \"Hello\\tWorld!\"\n",
    "print(a) "
   ]
  },
  {
   "cell_type": "markdown",
   "id": "c18b8608",
   "metadata": {},
   "source": [
    "`\\ooo` - Octal value"
   ]
  },
  {
   "cell_type": "code",
   "execution_count": 11,
   "id": "184701c9",
   "metadata": {},
   "outputs": [
    {
     "name": "stdout",
     "output_type": "stream",
     "text": [
      "Hello\n"
     ]
    }
   ],
   "source": [
    "#A backslash followed by three integers will result in a octal value:\n",
    "txt = \"\\110\\145\\154\\154\\157\"\n",
    "print(txt) "
   ]
  },
  {
   "cell_type": "markdown",
   "id": "df1d832e",
   "metadata": {},
   "source": [
    "`\\xhh` - Hex Value"
   ]
  },
  {
   "cell_type": "code",
   "execution_count": 12,
   "id": "a6f4958a",
   "metadata": {},
   "outputs": [
    {
     "name": "stdout",
     "output_type": "stream",
     "text": [
      "Hello\n"
     ]
    }
   ],
   "source": [
    "#A backslash followed by an 'x' and a hex number represents a hex value:\n",
    "txt = \"\\x48\\x65\\x6c\\x6c\\x6f\"\n",
    "print(txt) "
   ]
  },
  {
   "cell_type": "markdown",
   "id": "aff83ace",
   "metadata": {},
   "source": [
    "___\n",
    "\n",
    "**Basic Functions and methods**"
   ]
  },
  {
   "cell_type": "code",
   "execution_count": 13,
   "id": "dc1c68c5",
   "metadata": {},
   "outputs": [
    {
     "data": {
      "text/plain": [
       "11"
      ]
     },
     "execution_count": 13,
     "metadata": {},
     "output_type": "execute_result"
    }
   ],
   "source": [
    "len(\"hello world\") #gives length of the string"
   ]
  },
  {
   "cell_type": "code",
   "execution_count": 14,
   "id": "eb02cf22",
   "metadata": {},
   "outputs": [
    {
     "data": {
      "text/plain": [
       "'I am alone'"
      ]
     },
     "execution_count": 14,
     "metadata": {},
     "output_type": "execute_result"
    }
   ],
   "source": [
    "' I am alone '.strip() #Strips all whitespace characters from both ends."
   ]
  },
  {
   "cell_type": "code",
   "execution_count": 15,
   "id": "d033f82c",
   "metadata": {},
   "outputs": [
    {
     "data": {
      "text/plain": [
       "'On an islan'"
      ]
     },
     "execution_count": 15,
     "metadata": {},
     "output_type": "execute_result"
    }
   ],
   "source": [
    "'On an island'.strip('d') #Strips all passed characters from both ends."
   ]
  },
  {
   "cell_type": "code",
   "execution_count": 16,
   "id": "9cfd9fed",
   "metadata": {},
   "outputs": [
    {
     "data": {
      "text/plain": [
       "['but', 'life', 'is', 'good!']"
      ]
     },
     "execution_count": 16,
     "metadata": {},
     "output_type": "execute_result"
    }
   ],
   "source": [
    "'but life is good!'.split() #splits the string using seprator (default is whitespace) and return the list of string"
   ]
  },
  {
   "cell_type": "code",
   "execution_count": 17,
   "id": "483a582c",
   "metadata": {},
   "outputs": [
    {
     "data": {
      "text/plain": [
       "'but_life_is_good!'"
      ]
     },
     "execution_count": 17,
     "metadata": {},
     "output_type": "execute_result"
    }
   ],
   "source": [
    "\"_\".join(['but', 'life', 'is', 'good!']) #Joins the given list into single string"
   ]
  },
  {
   "cell_type": "code",
   "execution_count": 18,
   "id": "a8242592",
   "metadata": {},
   "outputs": [
    {
     "data": {
      "text/plain": [
       "'Help you'"
      ]
     },
     "execution_count": 18,
     "metadata": {},
     "output_type": "execute_result"
    }
   ],
   "source": [
    "'Help me'.replace('me', 'you') #Replaces first with second param"
   ]
  },
  {
   "cell_type": "code",
   "execution_count": 19,
   "id": "06bd7d2c",
   "metadata": {},
   "outputs": [
    {
     "data": {
      "text/plain": [
       "True"
      ]
     },
     "execution_count": 19,
     "metadata": {},
     "output_type": "execute_result"
    }
   ],
   "source": [
    "'Need to make fire'.startswith('Need')"
   ]
  },
  {
   "cell_type": "code",
   "execution_count": 20,
   "id": "38fc038e",
   "metadata": {},
   "outputs": [
    {
     "data": {
      "text/plain": [
       "True"
      ]
     },
     "execution_count": 20,
     "metadata": {},
     "output_type": "execute_result"
    }
   ],
   "source": [
    "'and cook rice'.endswith('rice')"
   ]
  },
  {
   "cell_type": "code",
   "execution_count": 21,
   "id": "34404305",
   "metadata": {},
   "outputs": [
    {
     "data": {
      "text/plain": [
       "2"
      ]
     },
     "execution_count": 21,
     "metadata": {},
     "output_type": "execute_result"
    }
   ],
   "source": [
    "'bye bye'.index('e') #returns the first index of the matched"
   ]
  },
  {
   "cell_type": "code",
   "execution_count": 22,
   "id": "f6c9b99c",
   "metadata": {},
   "outputs": [
    {
     "data": {
      "text/plain": [
       "'STILL THERE?'"
      ]
     },
     "execution_count": 22,
     "metadata": {},
     "output_type": "execute_result"
    }
   ],
   "source": [
    "'still there?'.upper() #To upper case"
   ]
  },
  {
   "cell_type": "code",
   "execution_count": 23,
   "id": "e0d2f73b",
   "metadata": {},
   "outputs": [
    {
     "data": {
      "text/plain": [
       "'hello?!'"
      ]
     },
     "execution_count": 23,
     "metadata": {},
     "output_type": "execute_result"
    }
   ],
   "source": [
    "'HELLO?!'.lower() #to Lower case"
   ]
  },
  {
   "cell_type": "code",
   "execution_count": 24,
   "id": "b79ae271",
   "metadata": {},
   "outputs": [
    {
     "data": {
      "text/plain": [
       "'Ok, i am done.'"
      ]
     },
     "execution_count": 24,
     "metadata": {},
     "output_type": "execute_result"
    }
   ],
   "source": [
    "'ok, I am done.'.capitalize() #Upper case the first character and the lower case all remaining"
   ]
  },
  {
   "cell_type": "code",
   "execution_count": 25,
   "id": "205777e7",
   "metadata": {},
   "outputs": [
    {
     "data": {
      "text/plain": [
       "'Ok, I Am Done.'"
      ]
     },
     "execution_count": 25,
     "metadata": {},
     "output_type": "execute_result"
    }
   ],
   "source": [
    "'ok, I am done.'.title() #Upper case firt charcter of each word"
   ]
  },
  {
   "cell_type": "code",
   "execution_count": 26,
   "id": "1ab5354b",
   "metadata": {},
   "outputs": [
    {
     "data": {
      "text/plain": [
       "'upper Or LOWER'"
      ]
     },
     "execution_count": 26,
     "metadata": {},
     "output_type": "execute_result"
    }
   ],
   "source": [
    "'UPPER oR lower'.swapcase() #converts upper case to lower and lower case to upper"
   ]
  },
  {
   "cell_type": "code",
   "execution_count": 27,
   "id": "74c67291",
   "metadata": {},
   "outputs": [
    {
     "data": {
      "text/plain": [
       "4"
      ]
     },
     "execution_count": 27,
     "metadata": {},
     "output_type": "execute_result"
    }
   ],
   "source": [
    "'oh hi there'.find('i') #returns the starting index position of the first occurrence"
   ]
  },
  {
   "cell_type": "code",
   "execution_count": 28,
   "id": "2117b945",
   "metadata": {},
   "outputs": [
    {
     "data": {
      "text/plain": [
       "2"
      ]
     },
     "execution_count": 28,
     "metadata": {},
     "output_type": "execute_result"
    }
   ],
   "source": [
    "'oh hi there'.count('e') #returns the count of matched"
   ]
  },
  {
   "cell_type": "markdown",
   "id": "598ab16f",
   "metadata": {},
   "source": [
    "---\n",
    "References:\n",
    "1. [w3schools](https://www.w3schools.com/python/python_strings.asp#:~:text=Strings%20are%20Arrays,access%20elements%20of%20the%20string)\n",
    "2. [Zero to Mastery](https://zerotomastery.io/cheatsheets/python-cheat-sheet/)"
   ]
  }
 ],
 "metadata": {
  "kernelspec": {
   "display_name": "Python 3 (ipykernel)",
   "language": "python",
   "name": "python3"
  },
  "language_info": {
   "codemirror_mode": {
    "name": "ipython",
    "version": 3
   },
   "file_extension": ".py",
   "mimetype": "text/x-python",
   "name": "python",
   "nbconvert_exporter": "python",
   "pygments_lexer": "ipython3",
   "version": "3.9.7"
  }
 },
 "nbformat": 4,
 "nbformat_minor": 5
}
