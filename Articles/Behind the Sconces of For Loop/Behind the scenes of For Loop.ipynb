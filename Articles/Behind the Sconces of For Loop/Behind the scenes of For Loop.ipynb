{
 "cells": [
  {
   "cell_type": "markdown",
   "id": "9123fd04",
   "metadata": {},
   "source": [
    "**What is an Iterator in python**\n",
    "\n",
    "An **iterator** is any python object which can be iterated upon and returns data one at a time. They are implemented in comprehension, loops, and generators but are not readily seen in plain sight. They are the crux behind most of the beforementioned functionality of pythons.\n",
    "\n",
    " An iterator object must support two methods namely `__iter__()` and `__next__()`. This is collectively called an **Iterator protocol**.\n",
    " \n",
    " - `iter()` is a function used to return an iterator by calling the `__iter__()` method on an Iterable object.\n",
    " - `next()` is used to iterate through each element. `StopIteration` is an excption raised whenever the end is reached."
   ]
  },
  {
   "cell_type": "markdown",
   "id": "3fdcbd64",
   "metadata": {},
   "source": [
    "Let us first see how iterable object can be converted into iterator."
   ]
  },
  {
   "cell_type": "code",
   "execution_count": 1,
   "id": "f78d5591",
   "metadata": {},
   "outputs": [
    {
     "name": "stdout",
     "output_type": "stream",
     "text": [
      "L\n",
      "o\n",
      "r\n",
      "e\n",
      "u\n",
      "m\n",
      " \n",
      "I\n",
      "p\n",
      "s\n",
      "u\n",
      "m\n"
     ]
    }
   ],
   "source": [
    "# We know string can be iterated over.\n",
    "s = \"Loreum Ipsum\"\n",
    "for word in s:\n",
    "    print(word)"
   ]
  },
  {
   "cell_type": "code",
   "execution_count": 2,
   "id": "c202cbda",
   "metadata": {},
   "outputs": [
    {
     "ename": "TypeError",
     "evalue": "'str' object is not an iterator",
     "output_type": "error",
     "traceback": [
      "\u001b[1;31m---------------------------------------------------------------------------\u001b[0m",
      "\u001b[1;31mTypeError\u001b[0m                                 Traceback (most recent call last)",
      "\u001b[1;32m~\\AppData\\Local\\Temp/ipykernel_41560/3883344095.py\u001b[0m in \u001b[0;36m<module>\u001b[1;34m\u001b[0m\n\u001b[0;32m      1\u001b[0m \u001b[1;31m# Calling next() on string\u001b[0m\u001b[1;33m\u001b[0m\u001b[1;33m\u001b[0m\u001b[0m\n\u001b[1;32m----> 2\u001b[1;33m \u001b[0mnext\u001b[0m\u001b[1;33m(\u001b[0m\u001b[0ms\u001b[0m\u001b[1;33m)\u001b[0m\u001b[1;33m\u001b[0m\u001b[1;33m\u001b[0m\u001b[0m\n\u001b[0m",
      "\u001b[1;31mTypeError\u001b[0m: 'str' object is not an iterator"
     ]
    }
   ],
   "source": [
    "# Calling next() on string\n",
    "next(s)"
   ]
  },
  {
   "cell_type": "code",
   "execution_count": 3,
   "id": "6a8b5aae",
   "metadata": {},
   "outputs": [
    {
     "name": "stdout",
     "output_type": "stream",
     "text": [
      "L\n",
      "o\n",
      "r\n",
      "e\n"
     ]
    }
   ],
   "source": [
    "myIter = iter(s)\n",
    "print(next(myIter))\n",
    "print(next(myIter))\n",
    "print(next(myIter))\n",
    "print(next(myIter))"
   ]
  },
  {
   "cell_type": "markdown",
   "id": "3ce072a8",
   "metadata": {},
   "source": [
    "Let us create an iterator that will print numbers from 1 to n. "
   ]
  },
  {
   "cell_type": "code",
   "execution_count": 4,
   "id": "b1b10398",
   "metadata": {},
   "outputs": [
    {
     "name": "stdout",
     "output_type": "stream",
     "text": [
      "1\n",
      "2\n",
      "3\n"
     ]
    },
    {
     "ename": "StopIteration",
     "evalue": "",
     "output_type": "error",
     "traceback": [
      "\u001b[1;31m---------------------------------------------------------------------------\u001b[0m",
      "\u001b[1;31mStopIteration\u001b[0m                             Traceback (most recent call last)",
      "\u001b[1;32m~\\AppData\\Local\\Temp/ipykernel_41560/844495064.py\u001b[0m in \u001b[0;36m<module>\u001b[1;34m\u001b[0m\n\u001b[0;32m     21\u001b[0m \u001b[1;33m\u001b[0m\u001b[0m\n\u001b[0;32m     22\u001b[0m \u001b[1;31m# raises StopIteration\u001b[0m\u001b[1;33m\u001b[0m\u001b[1;33m\u001b[0m\u001b[0m\n\u001b[1;32m---> 23\u001b[1;33m \u001b[0mprint\u001b[0m\u001b[1;33m(\u001b[0m\u001b[0mnext\u001b[0m\u001b[1;33m(\u001b[0m\u001b[0mprint_num_iter\u001b[0m\u001b[1;33m)\u001b[0m\u001b[1;33m)\u001b[0m\u001b[1;33m\u001b[0m\u001b[1;33m\u001b[0m\u001b[0m\n\u001b[0m",
      "\u001b[1;32m~\\AppData\\Local\\Temp/ipykernel_41560/844495064.py\u001b[0m in \u001b[0;36m__next__\u001b[1;34m(self)\u001b[0m\n\u001b[0;32m      9\u001b[0m     \u001b[1;32mdef\u001b[0m \u001b[0m__next__\u001b[0m\u001b[1;33m(\u001b[0m\u001b[0mself\u001b[0m\u001b[1;33m)\u001b[0m\u001b[1;33m:\u001b[0m\u001b[1;33m\u001b[0m\u001b[1;33m\u001b[0m\u001b[0m\n\u001b[0;32m     10\u001b[0m         \u001b[1;32mif\u001b[0m\u001b[1;33m(\u001b[0m\u001b[0mself\u001b[0m\u001b[1;33m.\u001b[0m\u001b[0mnum\u001b[0m \u001b[1;33m>=\u001b[0m \u001b[0mself\u001b[0m\u001b[1;33m.\u001b[0m\u001b[0mmax\u001b[0m\u001b[1;33m)\u001b[0m\u001b[1;33m:\u001b[0m\u001b[1;33m\u001b[0m\u001b[1;33m\u001b[0m\u001b[0m\n\u001b[1;32m---> 11\u001b[1;33m             \u001b[1;32mraise\u001b[0m \u001b[0mStopIteration\u001b[0m\u001b[1;33m\u001b[0m\u001b[1;33m\u001b[0m\u001b[0m\n\u001b[0m\u001b[0;32m     12\u001b[0m         \u001b[0mself\u001b[0m\u001b[1;33m.\u001b[0m\u001b[0mnum\u001b[0m \u001b[1;33m+=\u001b[0m \u001b[1;36m1\u001b[0m\u001b[1;33m\u001b[0m\u001b[1;33m\u001b[0m\u001b[0m\n\u001b[0;32m     13\u001b[0m         \u001b[1;32mreturn\u001b[0m \u001b[0mself\u001b[0m\u001b[1;33m.\u001b[0m\u001b[0mnum\u001b[0m\u001b[1;33m\u001b[0m\u001b[1;33m\u001b[0m\u001b[0m\n",
      "\u001b[1;31mStopIteration\u001b[0m: "
     ]
    }
   ],
   "source": [
    "class PrintNumber:\n",
    "    def __init__(self, max):\n",
    "        self.max = max\n",
    "\n",
    "    def __iter__(self):\n",
    "        self.num = 0\n",
    "        return self\n",
    "\n",
    "    def __next__(self):\n",
    "        if(self.num >= self.max):\n",
    "            raise StopIteration\n",
    "        self.num += 1\n",
    "        return self.num\n",
    "\n",
    "print_num = PrintNumber(3)\n",
    "\n",
    "print_num_iter = iter(print_num)\n",
    "print(next(print_num_iter))  \n",
    "print(next(print_num_iter))  \n",
    "print(next(print_num_iter))  \n",
    "\n",
    "# raises StopIteration\n",
    "print(next(print_num_iter))"
   ]
  },
  {
   "cell_type": "markdown",
   "id": "49b1ccd0",
   "metadata": {},
   "source": [
    "**Generator in Python**\n",
    "\n",
    "Below is the generator class which iterates the number from 0 to n and yields a number which is divisble by 7"
   ]
  },
  {
   "cell_type": "code",
   "execution_count": 5,
   "id": "53aca7bb",
   "metadata": {},
   "outputs": [
    {
     "name": "stdout",
     "output_type": "stream",
     "text": [
      "Numbers which are divisible between 0 to 100 are:\n",
      "0,7,14,21,28,35,42,49,56,63,70,77,84,91,98,"
     ]
    }
   ],
   "source": [
    "class divisible_by_7_generator:\n",
    "    def __init__(self, num):\n",
    "        self.num = num\n",
    "    #Generator\n",
    "    def get_nums_divisible_by_7(self):\n",
    "        for i in range(0, self.num):\n",
    "            if (i % 7 == 0):\n",
    "                yield i\n",
    "   \n",
    "n = 100\n",
    "result = divisible_by_7_generator(n)\n",
    "print(f\"Numbers which are divisible between 0 to {n} are:\")\n",
    "for num in result.get_nums_divisible_by_7():\n",
    "    print(num, end = \",\")"
   ]
  },
  {
   "cell_type": "markdown",
   "id": "c46a212e",
   "metadata": {},
   "source": [
    "**Python Generator Expression**\n",
    "\n",
    "Finding a cube of each element in a list"
   ]
  },
  {
   "cell_type": "code",
   "execution_count": 7,
   "id": "62971f2c",
   "metadata": {},
   "outputs": [
    {
     "name": "stdout",
     "output_type": "stream",
     "text": [
      "[1, 8, 27, 64, 125, 216]\n",
      "<generator object <genexpr> at 0x0000022F5D3EBD60>\n"
     ]
    }
   ],
   "source": [
    "myList = [1,2,3,4,5,6]\n",
    "#list Comperhension\n",
    "cubeList = [x**3 for x in myList]\n",
    "# generator expressions are surrounded by parenthesis ()\n",
    "cubeGenerator = (x**3 for x in myList)\n",
    "\n",
    "print(cubeList)\n",
    "print(cubeGenerator)"
   ]
  },
  {
   "cell_type": "code",
   "execution_count": 8,
   "id": "9ca52d5d",
   "metadata": {},
   "outputs": [
    {
     "name": "stdout",
     "output_type": "stream",
     "text": [
      "1\n",
      "8\n",
      "27\n",
      "64\n",
      "125\n",
      "216\n"
     ]
    }
   ],
   "source": [
    "for i in cubeGenerator: \n",
    "    print(i)"
   ]
  },
  {
   "cell_type": "code",
   "execution_count": null,
   "id": "25d084f0",
   "metadata": {},
   "outputs": [],
   "source": []
  }
 ],
 "metadata": {
  "kernelspec": {
   "display_name": "Python 3 (ipykernel)",
   "language": "python",
   "name": "python3"
  },
  "language_info": {
   "codemirror_mode": {
    "name": "ipython",
    "version": 3
   },
   "file_extension": ".py",
   "mimetype": "text/x-python",
   "name": "python",
   "nbconvert_exporter": "python",
   "pygments_lexer": "ipython3",
   "version": "3.9.7"
  }
 },
 "nbformat": 4,
 "nbformat_minor": 5
}
