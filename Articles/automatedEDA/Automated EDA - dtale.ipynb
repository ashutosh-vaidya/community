{
 "cells": [
  {
   "cell_type": "code",
   "execution_count": null,
   "id": "7a3a248b",
   "metadata": {
    "scrolled": true
   },
   "outputs": [],
   "source": [
    "#pip install dtale"
   ]
  },
  {
   "cell_type": "code",
   "execution_count": null,
   "id": "ae9c645c",
   "metadata": {},
   "outputs": [],
   "source": [
    "#pip uninstall scipy"
   ]
  },
  {
   "cell_type": "code",
   "execution_count": null,
   "id": "73f47f63",
   "metadata": {},
   "outputs": [],
   "source": [
    "#pip install --upgrade scipy==1.7.3"
   ]
  },
  {
   "cell_type": "code",
   "execution_count": 1,
   "id": "2281c43b",
   "metadata": {},
   "outputs": [
    {
     "name": "stdout",
     "output_type": "stream",
     "text": [
      "1.7.3\n"
     ]
    }
   ],
   "source": [
    "#import scipy\n",
    "#print(scipy.__version__)"
   ]
  },
  {
   "cell_type": "code",
   "execution_count": 2,
   "id": "d4d99c11",
   "metadata": {},
   "outputs": [],
   "source": [
    "import dtale\n",
    "import seaborn as sns"
   ]
  },
  {
   "cell_type": "code",
   "execution_count": 4,
   "id": "90424cc1",
   "metadata": {},
   "outputs": [],
   "source": [
    "df = sns.load_dataset('titanic')\n",
    "d = dtale.show(df)\n",
    "d.open_browser()"
   ]
  },
  {
   "cell_type": "code",
   "execution_count": null,
   "id": "68930a4a",
   "metadata": {},
   "outputs": [],
   "source": []
  }
 ],
 "metadata": {
  "kernelspec": {
   "display_name": "Python 3 (ipykernel)",
   "language": "python",
   "name": "python3"
  },
  "language_info": {
   "codemirror_mode": {
    "name": "ipython",
    "version": 3
   },
   "file_extension": ".py",
   "mimetype": "text/x-python",
   "name": "python",
   "nbconvert_exporter": "python",
   "pygments_lexer": "ipython3",
   "version": "3.9.7"
  }
 },
 "nbformat": 4,
 "nbformat_minor": 5
}
